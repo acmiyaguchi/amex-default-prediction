{
 "cells": [
  {
   "cell_type": "code",
   "execution_count": 4,
   "metadata": {},
   "outputs": [
    {
     "data": {
      "text/plain": [
       "CrossValidatorModel_c2dd48301b37"
      ]
     },
     "execution_count": 4,
     "metadata": {},
     "output_type": "execute_result"
    }
   ],
   "source": [
    "from amex_default_prediction.utils import spark_session\n",
    "from pyspark.ml.tuning import CrossValidatorModel\n",
    "from pathlib import Path\n",
    "\n",
    "intermediate_root = Path(\"../data/intermediate\")\n",
    "model_path = intermediate_root / \"models/gbt/20220711011636-0.5.0-fbf6477\"\n",
    "spark = spark_session()\n",
    "model = CrossValidatorModel.read().load(model_path.as_posix())\n",
    "model"
   ]
  },
  {
   "cell_type": "code",
   "execution_count": 6,
   "metadata": {},
   "outputs": [
    {
     "data": {
      "text/plain": [
       "[0.753186915872277, 0.7631235971752401, 0.7668335629482486]"
      ]
     },
     "execution_count": 6,
     "metadata": {},
     "output_type": "execute_result"
    }
   ],
   "source": [
    "model.avgMetrics"
   ]
  },
  {
   "cell_type": "code",
   "execution_count": 14,
   "metadata": {},
   "outputs": [
    {
     "data": {
      "text/plain": [
       "['_abc_impl',\n",
       " '_copyValues',\n",
       " '_copy_params',\n",
       " '_defaultParamMap',\n",
       " '_dummy',\n",
       " '_from_java',\n",
       " '_is_protocol',\n",
       " '_paramMap',\n",
       " '_params',\n",
       " '_randomUID',\n",
       " '_resetUid',\n",
       " '_resolveParam',\n",
       " '_set',\n",
       " '_setDefault',\n",
       " '_shouldOwn',\n",
       " '_testOwnParam',\n",
       " '_to_java',\n",
       " '_transform',\n",
       " 'clear',\n",
       " 'copy',\n",
       " 'explainParam',\n",
       " 'explainParams',\n",
       " 'extractParamMap',\n",
       " 'getOrDefault',\n",
       " 'getParam',\n",
       " 'hasDefault',\n",
       " 'hasParam',\n",
       " 'isDefined',\n",
       " 'isSet',\n",
       " 'load',\n",
       " 'params',\n",
       " 'read',\n",
       " 'save',\n",
       " 'set',\n",
       " 'stages',\n",
       " 'transform',\n",
       " 'uid',\n",
       " 'write']"
      ]
     },
     "execution_count": 14,
     "metadata": {},
     "output_type": "execute_result"
    }
   ],
   "source": [
    "[x for x in dir(model.bestModel) if \"__\" not in x]"
   ]
  },
  {
   "cell_type": "code",
   "execution_count": 17,
   "metadata": {},
   "outputs": [
    {
     "data": {
      "text/plain": [
       "[GBTClassificationModel: uid = GBTClassifier_f3deaa4e576d, numTrees=100, numClasses=2, numFeatures=220,\n",
       " PredictionTransformer]"
      ]
     },
     "execution_count": 17,
     "metadata": {},
     "output_type": "execute_result"
    }
   ],
   "source": [
    "model.bestModel.stages"
   ]
  },
  {
   "cell_type": "code",
   "execution_count": 20,
   "metadata": {},
   "outputs": [],
   "source": [
    "best_model = model.bestModel.stages[0]\n",
    "features = best_model.featureImportances"
   ]
  },
  {
   "cell_type": "code",
   "execution_count": 25,
   "metadata": {},
   "outputs": [
    {
     "data": {
      "text/plain": [
       "[<matplotlib.lines.Line2D at 0x25e02aeaaa0>]"
      ]
     },
     "execution_count": 25,
     "metadata": {},
     "output_type": "execute_result"
    },
    {
     "data": {
      "image/png": "[encoded data removed]",
      "text/plain": [
       "<Figure size 432x288 with 1 Axes>"
      ]
     },
     "metadata": {
      "needs_background": "light"
     },
     "output_type": "display_data"
    }
   ],
   "source": [
    "from matplotlib import pyplot as plt\n",
    "\n",
    "plt.plot(features.toArray())"
   ]
  },
  {
   "cell_type": "code",
   "execution_count": 30,
   "metadata": {},
   "outputs": [
    {
     "data": {
      "text/plain": [
       "67"
      ]
     },
     "execution_count": 30,
     "metadata": {},
     "output_type": "execute_result"
    }
   ],
   "source": [
    "(features.toArray() > 0.001).sum()"
   ]
  },
  {
   "cell_type": "code",
   "execution_count": 32,
   "metadata": {},
   "outputs": [
    {
     "data": {
      "text/plain": [
       "114"
      ]
     },
     "execution_count": 32,
     "metadata": {},
     "output_type": "execute_result"
    }
   ],
   "source": [
    "(features.toArray() > 0.0001).sum()"
   ]
  },
  {
   "cell_type": "code",
   "execution_count": 45,
   "metadata": {},
   "outputs": [
    {
     "name": "stdout",
     "output_type": "stream",
     "text": [
      "83\n",
      "83 out of 220 features explains 99.0% of variance\n"
     ]
    }
   ],
   "source": [
    "import numpy as np\n",
    "\n",
    "# find the location where we retain x% of importance\n",
    "tol = 0.99\n",
    "z = np.array(sorted(features.toArray(), reverse=True))\n",
    "for i, v in enumerate(z.cumsum()):\n",
    "    if v >= tol:\n",
    "        print(i)\n",
    "        break\n",
    "print(f\"{i} out of {len(z)} features explains {tol*100}% of variance\")"
   ]
  }
 ],
 "metadata": {
  "kernelspec": {
   "display_name": "Python 3.10.5 ('venv': venv)",
   "language": "python",
   "name": "python3"
  },
  "language_info": {
   "codemirror_mode": {
    "name": "ipython",
    "version": 3
   },
   "file_extension": ".py",
   "mimetype": "text/x-python",
   "name": "python",
   "nbconvert_exporter": "python",
   "pygments_lexer": "ipython3",
   "version": "3.10.5"
  },
  "orig_nbformat": 4,
  "vscode": {
   "interpreter": {
    "hash": "b6c54eb545c980a3d22c90b546bc649b25da17ee49681e123324ac321bcafd7a"
   }
  }
 },
 "nbformat": 4,
 "nbformat_minor": 2
}
