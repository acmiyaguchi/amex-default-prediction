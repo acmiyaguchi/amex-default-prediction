{
 "cells": [
  {
   "cell_type": "code",
   "execution_count": 22,
   "metadata": {},
   "outputs": [
    {
     "data": {
      "text/plain": [
       "CrossValidatorModel_6e073837dc2f"
      ]
     },
     "execution_count": 22,
     "metadata": {},
     "output_type": "execute_result"
    }
   ],
   "source": [
    "from amex_default_prediction.utils import spark_session\n",
    "from pyspark.ml.tuning import CrossValidatorModel\n",
    "from pathlib import Path\n",
    "\n",
    "intermediate_root = Path(\"../data/intermediate\")\n",
    "model_path = intermediate_root / \"models/aft/20220711044610-0.8.0-6bbdfec\"\n",
    "spark = spark_session()\n",
    "model = CrossValidatorModel.read().load(model_path.as_posix())\n",
    "model"
   ]
  },
  {
   "cell_type": "code",
   "execution_count": 2,
   "metadata": {},
   "outputs": [
    {
     "name": "stdout",
     "output_type": "stream",
     "text": [
      "root\n",
      " |-- customer_ID: string (nullable = true)\n",
      " |-- features: vector (nullable = true)\n",
      " |-- target: string (nullable = true)\n",
      " |-- label: float (nullable = true)\n",
      "\n"
     ]
    }
   ],
   "source": [
    "from pyspark.sql import functions as F\n",
    "\n",
    "df = spark.read.parquet(\n",
    "    (intermediate_root / \"train_data_preprocessed/data\").as_posix()\n",
    ").withColumn(\"label\", F.col(\"target\").cast(\"float\"))\n",
    "df.printSchema()"
   ]
  },
  {
   "cell_type": "code",
   "execution_count": 24,
   "metadata": {},
   "outputs": [
    {
     "name": "stdout",
     "output_type": "stream",
     "text": [
      "-RECORD 0-------------------------------------------------------------------------------------------------\n",
      " customer_ID           | 0005e52a3fa31b7eed49ceb576f011433ee2578833cd3f9d51c9dd9448a198ff                 \n",
      " features              | [0.6023457646369934,0.007704726420342922,0.49700069427490234,0.04169001430273... \n",
      " target                | 1                                                                                \n",
      " label                 | 1.0                                                                              \n",
      " features_except_age   | [0.6023457646369934,0.007704726420342922,0.49700069427490234,0.04169001430273... \n",
      " age                   | 209.0                                                                            \n",
      " censor                | 1.0                                                                              \n",
      " age_plus_one          | 210.0                                                                            \n",
      " prediction            | 243.46608103637817                                                               \n",
      " quantiles_probability | [97.46837778700606,134.8139801340021,155.57762147625598,190.00269726180426,22... \n",
      "-RECORD 1-------------------------------------------------------------------------------------------------\n",
      " customer_ID           | 000adf2938f771f75a581b65107024eddeae70684778c0da9b94b261b836a940                 \n",
      " features              | [0.8077934384346008,0.007917067036032677,0.024744383990764618,1.0078582763671... \n",
      " target                | 0                                                                                \n",
      " label                 | 0.0                                                                              \n",
      " features_except_age   | [0.8077934384346008,0.007917067036032677,0.024744383990764618,1.0078582763671... \n",
      " age                   | 367.0                                                                            \n",
      " censor                | 0.0                                                                              \n",
      " age_plus_one          | 368.0                                                                            \n",
      " prediction            | 1308.897099684873                                                                \n",
      " quantiles_probability | [523.9993860883627,724.7729410324041,836.4002766188845,1021.4727994948884,121... \n",
      "-RECORD 2-------------------------------------------------------------------------------------------------\n",
      " customer_ID           | 003aabfc58b05ba200e495df58b6c46170622f5e95c67f5b1cdc3c0e1404f6be                 \n",
      " features              | [0.07608940452337265,0.503859281539917,0.017804499715566635,1.006178736686706... \n",
      " target                | 1                                                                                \n",
      " label                 | 1.0                                                                              \n",
      " features_except_age   | [0.07608940452337265,0.503859281539917,0.017804499715566635,1.006178736686706... \n",
      " age                   | 365.0                                                                            \n",
      " censor                | 1.0                                                                              \n",
      " age_plus_one          | 366.0                                                                            \n",
      " prediction            | 392.84751212794527                                                               \n",
      " quantiles_probability | [157.27122875506743,217.53065753662662,251.03407127417552,306.5810506299894,3... \n",
      "only showing top 3 rows\n",
      "\n"
     ]
    }
   ],
   "source": [
    "model.transform(df.limit(100)).show(vertical=True, n=3, truncate=80)"
   ]
  },
  {
   "cell_type": "code",
   "execution_count": 26,
   "metadata": {},
   "outputs": [
    {
     "name": "stderr",
     "output_type": "stream",
     "text": [
      "f:\\kaggle\\amex\\venv\\lib\\site-packages\\pyspark\\sql\\pandas\\conversion.py:114: UserWarning: toPandas attempted Arrow optimization because 'spark.sql.execution.arrow.pyspark.enabled' is set to true; however, failed by the reason below:\n",
      "  Unsupported type in conversion to Arrow: VectorUDT()\n",
      "Attempting non-optimization as 'spark.sql.execution.arrow.pyspark.fallback.enabled' is set to true.\n",
      "  warn(msg)\n"
     ]
    },
    {
     "data": {
      "text/html": [
       "<div>\n",
       "<style scoped>\n",
       "    .dataframe tbody tr th:only-of-type {\n",
       "        vertical-align: middle;\n",
       "    }\n",
       "\n",
       "    .dataframe tbody tr th {\n",
       "        vertical-align: top;\n",
       "    }\n",
       "\n",
       "    .dataframe thead th {\n",
       "        text-align: right;\n",
       "    }\n",
       "</style>\n",
       "<table border=\"1\" class=\"dataframe\">\n",
       "  <thead>\n",
       "    <tr style=\"text-align: right;\">\n",
       "      <th></th>\n",
       "      <th>customer_ID</th>\n",
       "      <th>features</th>\n",
       "      <th>target</th>\n",
       "      <th>label</th>\n",
       "      <th>features_except_age</th>\n",
       "      <th>age</th>\n",
       "      <th>censor</th>\n",
       "      <th>age_plus_one</th>\n",
       "      <th>prediction</th>\n",
       "      <th>quantiles_probability</th>\n",
       "    </tr>\n",
       "  </thead>\n",
       "  <tbody>\n",
       "    <tr>\n",
       "      <th>0</th>\n",
       "      <td>0005e52a3fa31b7eed49ceb576f011433ee2578833cd3f...</td>\n",
       "      <td>[0.6023457646369934, 0.007704726420342922, 0.4...</td>\n",
       "      <td>1</td>\n",
       "      <td>1.0</td>\n",
       "      <td>[0.6023457646369934, 0.007704726420342922, 0.4...</td>\n",
       "      <td>209.0</td>\n",
       "      <td>1.0</td>\n",
       "      <td>210.0</td>\n",
       "      <td>243.466081</td>\n",
       "      <td>[97.46837778700606, 134.8139801340021, 155.577...</td>\n",
       "    </tr>\n",
       "    <tr>\n",
       "      <th>1</th>\n",
       "      <td>000adf2938f771f75a581b65107024eddeae70684778c0...</td>\n",
       "      <td>[0.8077934384346008, 0.007917067036032677, 0.0...</td>\n",
       "      <td>0</td>\n",
       "      <td>0.0</td>\n",
       "      <td>[0.8077934384346008, 0.007917067036032677, 0.0...</td>\n",
       "      <td>367.0</td>\n",
       "      <td>0.0</td>\n",
       "      <td>368.0</td>\n",
       "      <td>1308.897100</td>\n",
       "      <td>[523.9993860883627, 724.7729410324041, 836.400...</td>\n",
       "    </tr>\n",
       "    <tr>\n",
       "      <th>2</th>\n",
       "      <td>003aabfc58b05ba200e495df58b6c46170622f5e95c67f...</td>\n",
       "      <td>[0.07608940452337265, 0.503859281539917, 0.017...</td>\n",
       "      <td>1</td>\n",
       "      <td>1.0</td>\n",
       "      <td>[0.07608940452337265, 0.503859281539917, 0.017...</td>\n",
       "      <td>365.0</td>\n",
       "      <td>1.0</td>\n",
       "      <td>366.0</td>\n",
       "      <td>392.847512</td>\n",
       "      <td>[157.27122875506743, 217.53065753662662, 251.0...</td>\n",
       "    </tr>\n",
       "    <tr>\n",
       "      <th>3</th>\n",
       "      <td>004560462223c3e34e6d96f4d3aff34a49bd20b037b238...</td>\n",
       "      <td>[0.7199313044548035, 0.4493969976902008, 0.051...</td>\n",
       "      <td>0</td>\n",
       "      <td>0.0</td>\n",
       "      <td>[0.7199313044548035, 0.4493969976902008, 0.051...</td>\n",
       "      <td>364.0</td>\n",
       "      <td>0.0</td>\n",
       "      <td>365.0</td>\n",
       "      <td>622.599839</td>\n",
       "      <td>[249.24948901383317, 344.7509481870206, 397.84...</td>\n",
       "    </tr>\n",
       "    <tr>\n",
       "      <th>4</th>\n",
       "      <td>004ada9f90b75b78aa1992f641d58daa8ceca65312afd6...</td>\n",
       "      <td>[0.7514593601226807, 0.004643425345420837, 0.0...</td>\n",
       "      <td>0</td>\n",
       "      <td>0.0</td>\n",
       "      <td>[0.7514593601226807, 0.004643425345420837, 0.0...</td>\n",
       "      <td>361.0</td>\n",
       "      <td>0.0</td>\n",
       "      <td>362.0</td>\n",
       "      <td>944.668010</td>\n",
       "      <td>[378.18515869357935, 523.0891046787035, 603.65...</td>\n",
       "    </tr>\n",
       "    <tr>\n",
       "      <th>...</th>\n",
       "      <td>...</td>\n",
       "      <td>...</td>\n",
       "      <td>...</td>\n",
       "      <td>...</td>\n",
       "      <td>...</td>\n",
       "      <td>...</td>\n",
       "      <td>...</td>\n",
       "      <td>...</td>\n",
       "      <td>...</td>\n",
       "      <td>...</td>\n",
       "    </tr>\n",
       "    <tr>\n",
       "      <th>95</th>\n",
       "      <td>096e1b5547c7aa95fde7041fc199d70c3472fe6208b3ae...</td>\n",
       "      <td>[0.8416891098022461, 0.006891798228025436, 0.0...</td>\n",
       "      <td>0</td>\n",
       "      <td>0.0</td>\n",
       "      <td>[0.8416891098022461, 0.006891798228025436, 0.0...</td>\n",
       "      <td>365.0</td>\n",
       "      <td>0.0</td>\n",
       "      <td>366.0</td>\n",
       "      <td>724.297080</td>\n",
       "      <td>[289.9626147619105, 401.06355593133617, 462.83...</td>\n",
       "    </tr>\n",
       "    <tr>\n",
       "      <th>96</th>\n",
       "      <td>09912668346c35933fbf215f11bec35df294cd295eef78...</td>\n",
       "      <td>[0.3804861903190613, 0.5906245112419128, 0.027...</td>\n",
       "      <td>1</td>\n",
       "      <td>1.0</td>\n",
       "      <td>[0.3804861903190613, 0.5906245112419128, 0.027...</td>\n",
       "      <td>351.0</td>\n",
       "      <td>1.0</td>\n",
       "      <td>352.0</td>\n",
       "      <td>446.672883</td>\n",
       "      <td>[178.8194933914237, 247.33527095654168, 285.42...</td>\n",
       "    </tr>\n",
       "    <tr>\n",
       "      <th>97</th>\n",
       "      <td>09c48d2d91839073bb87d6e093dee367d03971722c854f...</td>\n",
       "      <td>[0.7362323999404907, 0.0029227330815047026, 0....</td>\n",
       "      <td>0</td>\n",
       "      <td>0.0</td>\n",
       "      <td>[0.7362323999404907, 0.0029227330815047026, 0....</td>\n",
       "      <td>379.0</td>\n",
       "      <td>0.0</td>\n",
       "      <td>380.0</td>\n",
       "      <td>588.834438</td>\n",
       "      <td>[235.731963841997, 326.05410094945694, 376.271...</td>\n",
       "    </tr>\n",
       "    <tr>\n",
       "      <th>98</th>\n",
       "      <td>0a0ef852b5f8a6178c38ef428c5e5ef29292f252bb162d...</td>\n",
       "      <td>[0.47742611169815063, 0.5361353158950806, 0.04...</td>\n",
       "      <td>0</td>\n",
       "      <td>0.0</td>\n",
       "      <td>[0.47742611169815063, 0.5361353158950806, 0.04...</td>\n",
       "      <td>214.0</td>\n",
       "      <td>0.0</td>\n",
       "      <td>215.0</td>\n",
       "      <td>265.868253</td>\n",
       "      <td>[106.43678647999565, 147.2186892183416, 169.89...</td>\n",
       "    </tr>\n",
       "    <tr>\n",
       "      <th>99</th>\n",
       "      <td>0a365b2d733d65a29a65350cb720511e8d6654efbe13fc...</td>\n",
       "      <td>[0.8574180006980896, 0.002586954738944769, 0.0...</td>\n",
       "      <td>0</td>\n",
       "      <td>0.0</td>\n",
       "      <td>[0.8574180006980896, 0.002586954738944769, 0.0...</td>\n",
       "      <td>367.0</td>\n",
       "      <td>0.0</td>\n",
       "      <td>368.0</td>\n",
       "      <td>811.420805</td>\n",
       "      <td>[324.8414284039577, 449.3063993662802, 518.507...</td>\n",
       "    </tr>\n",
       "  </tbody>\n",
       "</table>\n",
       "<p>100 rows × 10 columns</p>\n",
       "</div>"
      ],
      "text/plain": [
       "                                          customer_ID  \\\n",
       "0   0005e52a3fa31b7eed49ceb576f011433ee2578833cd3f...   \n",
       "1   000adf2938f771f75a581b65107024eddeae70684778c0...   \n",
       "2   003aabfc58b05ba200e495df58b6c46170622f5e95c67f...   \n",
       "3   004560462223c3e34e6d96f4d3aff34a49bd20b037b238...   \n",
       "4   004ada9f90b75b78aa1992f641d58daa8ceca65312afd6...   \n",
       "..                                                ...   \n",
       "95  096e1b5547c7aa95fde7041fc199d70c3472fe6208b3ae...   \n",
       "96  09912668346c35933fbf215f11bec35df294cd295eef78...   \n",
       "97  09c48d2d91839073bb87d6e093dee367d03971722c854f...   \n",
       "98  0a0ef852b5f8a6178c38ef428c5e5ef29292f252bb162d...   \n",
       "99  0a365b2d733d65a29a65350cb720511e8d6654efbe13fc...   \n",
       "\n",
       "                                             features target  label  \\\n",
       "0   [0.6023457646369934, 0.007704726420342922, 0.4...      1    1.0   \n",
       "1   [0.8077934384346008, 0.007917067036032677, 0.0...      0    0.0   \n",
       "2   [0.07608940452337265, 0.503859281539917, 0.017...      1    1.0   \n",
       "3   [0.7199313044548035, 0.4493969976902008, 0.051...      0    0.0   \n",
       "4   [0.7514593601226807, 0.004643425345420837, 0.0...      0    0.0   \n",
       "..                                                ...    ...    ...   \n",
       "95  [0.8416891098022461, 0.006891798228025436, 0.0...      0    0.0   \n",
       "96  [0.3804861903190613, 0.5906245112419128, 0.027...      1    1.0   \n",
       "97  [0.7362323999404907, 0.0029227330815047026, 0....      0    0.0   \n",
       "98  [0.47742611169815063, 0.5361353158950806, 0.04...      0    0.0   \n",
       "99  [0.8574180006980896, 0.002586954738944769, 0.0...      0    0.0   \n",
       "\n",
       "                                  features_except_age    age  censor  \\\n",
       "0   [0.6023457646369934, 0.007704726420342922, 0.4...  209.0     1.0   \n",
       "1   [0.8077934384346008, 0.007917067036032677, 0.0...  367.0     0.0   \n",
       "2   [0.07608940452337265, 0.503859281539917, 0.017...  365.0     1.0   \n",
       "3   [0.7199313044548035, 0.4493969976902008, 0.051...  364.0     0.0   \n",
       "4   [0.7514593601226807, 0.004643425345420837, 0.0...  361.0     0.0   \n",
       "..                                                ...    ...     ...   \n",
       "95  [0.8416891098022461, 0.006891798228025436, 0.0...  365.0     0.0   \n",
       "96  [0.3804861903190613, 0.5906245112419128, 0.027...  351.0     1.0   \n",
       "97  [0.7362323999404907, 0.0029227330815047026, 0....  379.0     0.0   \n",
       "98  [0.47742611169815063, 0.5361353158950806, 0.04...  214.0     0.0   \n",
       "99  [0.8574180006980896, 0.002586954738944769, 0.0...  367.0     0.0   \n",
       "\n",
       "    age_plus_one   prediction  \\\n",
       "0          210.0   243.466081   \n",
       "1          368.0  1308.897100   \n",
       "2          366.0   392.847512   \n",
       "3          365.0   622.599839   \n",
       "4          362.0   944.668010   \n",
       "..           ...          ...   \n",
       "95         366.0   724.297080   \n",
       "96         352.0   446.672883   \n",
       "97         380.0   588.834438   \n",
       "98         215.0   265.868253   \n",
       "99         368.0   811.420805   \n",
       "\n",
       "                                quantiles_probability  \n",
       "0   [97.46837778700606, 134.8139801340021, 155.577...  \n",
       "1   [523.9993860883627, 724.7729410324041, 836.400...  \n",
       "2   [157.27122875506743, 217.53065753662662, 251.0...  \n",
       "3   [249.24948901383317, 344.7509481870206, 397.84...  \n",
       "4   [378.18515869357935, 523.0891046787035, 603.65...  \n",
       "..                                                ...  \n",
       "95  [289.9626147619105, 401.06355593133617, 462.83...  \n",
       "96  [178.8194933914237, 247.33527095654168, 285.42...  \n",
       "97  [235.731963841997, 326.05410094945694, 376.271...  \n",
       "98  [106.43678647999565, 147.2186892183416, 169.89...  \n",
       "99  [324.8414284039577, 449.3063993662802, 518.507...  \n",
       "\n",
       "[100 rows x 10 columns]"
      ]
     },
     "execution_count": 26,
     "metadata": {},
     "output_type": "execute_result"
    }
   ],
   "source": [
    "pdf = model.bestModel.transform(df.limit(100)).toPandas()\n",
    "pdf"
   ]
  },
  {
   "cell_type": "code",
   "execution_count": 27,
   "metadata": {},
   "outputs": [
    {
     "data": {
      "text/plain": [
       "[<matplotlib.lines.Line2D at 0x15093104c70>]"
      ]
     },
     "execution_count": 27,
     "metadata": {},
     "output_type": "execute_result"
    },
    {
     "data": {
      "image/png": "[encoded data removed]",
      "text/plain": [
       "<Figure size 432x288 with 1 Axes>"
      ]
     },
     "metadata": {
      "needs_background": "light"
     },
     "output_type": "display_data"
    }
   ],
   "source": [
    "import matplotlib.pyplot as plt\n",
    "\n",
    "plt.plot(pdf.features[0])"
   ]
  },
  {
   "cell_type": "code",
   "execution_count": 29,
   "metadata": {},
   "outputs": [
    {
     "data": {
      "image/png": "[encoded data removed]",
      "text/plain": [
       "<Figure size 432x288 with 1 Axes>"
      ]
     },
     "metadata": {
      "needs_background": "light"
     },
     "output_type": "display_data"
    }
   ],
   "source": [
    "for i in range(20):\n",
    "    plt.plot(pdf.quantiles_probability[i])\n",
    "plt.show()"
   ]
  },
  {
   "cell_type": "code",
   "execution_count": 30,
   "metadata": {},
   "outputs": [
    {
     "data": {
      "text/plain": [
       "5.535043838201091"
      ]
     },
     "execution_count": 30,
     "metadata": {},
     "output_type": "execute_result"
    }
   ],
   "source": [
    "import numpy as np\n",
    "\n",
    "np.array(pdf.features[0])[:20].sum()"
   ]
  }
 ],
 "metadata": {
  "kernelspec": {
   "display_name": "Python 3.10.5 ('venv': venv)",
   "language": "python",
   "name": "python3"
  },
  "language_info": {
   "codemirror_mode": {
    "name": "ipython",
    "version": 3
   },
   "file_extension": ".py",
   "mimetype": "text/x-python",
   "name": "python",
   "nbconvert_exporter": "python",
   "pygments_lexer": "ipython3",
   "version": "3.10.5"
  },
  "orig_nbformat": 4,
  "vscode": {
   "interpreter": {
    "hash": "b6c54eb545c980a3d22c90b546bc649b25da17ee49681e123324ac321bcafd7a"
   }
  }
 },
 "nbformat": 4,
 "nbformat_minor": 2
}
