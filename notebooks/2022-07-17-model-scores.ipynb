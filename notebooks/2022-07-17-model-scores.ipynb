{
 "cells": [
  {
   "cell_type": "code",
   "execution_count": 1,
   "metadata": {},
   "outputs": [
    {
     "name": "stderr",
     "output_type": "stream",
     "text": [
      "f:\\kaggle\\amex\\venv\\lib\\site-packages\\tqdm\\auto.py:22: TqdmWarning: IProgress not found. Please update jupyter and ipywidgets. See https://ipywidgets.readthedocs.io/en/stable/user_install.html\n",
      "  from .autonotebook import tqdm as notebook_tqdm\n"
     ]
    }
   ],
   "source": [
    "from amex_default_prediction.utils import spark_session\n",
    "from pathlib import Path\n",
    "\n",
    "intermediate_root = Path(\"../data/intermediate\")\n",
    "model_path = intermediate_root / \"models/logistic/20220710212120-0.4.0-57daea5\"\n",
    "spark = spark_session()"
   ]
  },
  {
   "cell_type": "code",
   "execution_count": 9,
   "metadata": {},
   "outputs": [],
   "source": [
    "spark.sql(\"set spark.sql.files.ignoreCorruptFiles=true\")\n",
    "df = spark.read.json(f\"{intermediate_root}/models/*/*/metadata/part-*\")"
   ]
  },
  {
   "cell_type": "code",
   "execution_count": 15,
   "metadata": {},
   "outputs": [
    {
     "name": "stdout",
     "output_type": "stream",
     "text": [
      "-RECORD 0--------------------------------------------------------------------------------------------\n",
      " avgMetrics       | null                                                                             \n",
      " class            | org.apache.spark.ml.feature.StopWordsRemover                                     \n",
      " defaultParamMap  | {false, null, en_US, null, SparkTorchModel_17a0a3b6d587__output, null, [i, me... \n",
      " paramMap         | {null, null, null, null, [120,156,108,187,217,206,171,64,219,166,215,27,81,21... \n",
      " persistSubModels | null                                                                             \n",
      " sparkVersion     | 3.3.0                                                                            \n",
      " stdMetrics       | null                                                                             \n",
      " timestamp        | 1657609223020                                                                    \n",
      " uid              | SparkTorchModel_17a0a3b6d587                                                     \n",
      "-RECORD 1--------------------------------------------------------------------------------------------\n",
      " avgMetrics       | null                                                                             \n",
      " class            | org.apache.spark.ml.feature.StopWordsRemover                                     \n",
      " defaultParamMap  | {false, null, en_US, null, SparkTorchModel_a2e831e5d635__output, null, [i, me... \n",
      " paramMap         | {null, null, null, null, [120,156,108,187,89,175,171,78,219,222,153,131,40,13... \n",
      " persistSubModels | null                                                                             \n",
      " sparkVersion     | 3.3.0                                                                            \n",
      " stdMetrics       | null                                                                             \n",
      " timestamp        | 1657608450383                                                                    \n",
      " uid              | SparkTorchModel_a2e831e5d635                                                     \n",
      "-RECORD 2--------------------------------------------------------------------------------------------\n",
      " avgMetrics       | null                                                                             \n",
      " class            | org.apache.spark.ml.feature.StopWordsRemover                                     \n",
      " defaultParamMap  | {false, null, en_US, null, SparkTorchModel_e243f5d57877__output, null, [i, me... \n",
      " paramMap         | {null, null, null, null, [120,156,108,187,217,174,243,80,187,165,85,7,8,149,1... \n",
      " persistSubModels | null                                                                             \n",
      " sparkVersion     | 3.3.0                                                                            \n",
      " stdMetrics       | null                                                                             \n",
      " timestamp        | 1657608863771                                                                    \n",
      " uid              | SparkTorchModel_e243f5d57877                                                     \n",
      "only showing top 3 rows\n",
      "\n"
     ]
    }
   ],
   "source": [
    "df.show(vertical=True, n=3, truncate=80)"
   ]
  },
  {
   "cell_type": "code",
   "execution_count": 21,
   "metadata": {},
   "outputs": [
    {
     "name": "stdout",
     "output_type": "stream",
     "text": [
      "root\n",
      " |-- avgMetrics: array (nullable = true)\n",
      " |    |-- element: double (containsNull = true)\n",
      " |-- class: string (nullable = true)\n",
      " |-- defaultParamMap: struct (nullable = true)\n",
      " |    |-- caseSensitive: boolean (nullable = true)\n",
      " |    |-- foldCol: string (nullable = true)\n",
      " |    |-- locale: string (nullable = true)\n",
      " |    |-- numFolds: long (nullable = true)\n",
      " |    |-- outputCol: string (nullable = true)\n",
      " |    |-- seed: long (nullable = true)\n",
      " |    |-- stopWords: array (nullable = true)\n",
      " |    |    |-- element: string (containsNull = true)\n",
      " |-- paramMap: struct (nullable = true)\n",
      " |    |-- estimatorParamMaps: array (nullable = true)\n",
      " |    |    |-- element: array (containsNull = true)\n",
      " |    |    |    |-- element: struct (containsNull = true)\n",
      " |    |    |    |    |-- isJson: boolean (nullable = true)\n",
      " |    |    |    |    |-- name: string (nullable = true)\n",
      " |    |    |    |    |-- parent: string (nullable = true)\n",
      " |    |    |    |    |-- value: double (nullable = true)\n",
      " |    |-- foldCol: string (nullable = true)\n",
      " |    |-- numFolds: long (nullable = true)\n",
      " |    |-- seed: long (nullable = true)\n",
      " |    |-- stopWords: array (nullable = true)\n",
      " |    |    |-- element: string (containsNull = true)\n",
      " |-- persistSubModels: boolean (nullable = true)\n",
      " |-- sparkVersion: string (nullable = true)\n",
      " |-- stdMetrics: array (nullable = true)\n",
      " |    |-- element: double (containsNull = true)\n",
      " |-- timestamp: long (nullable = true)\n",
      " |-- uid: string (nullable = true)\n",
      "\n"
     ]
    }
   ],
   "source": [
    "df.printSchema()"
   ]
  },
  {
   "cell_type": "code",
   "execution_count": 50,
   "metadata": {},
   "outputs": [
    {
     "name": "stdout",
     "output_type": "stream",
     "text": [
      "+--------+--------------------+------+---------------+--------------------+-----+\n",
      "|   model|             version|isJson|           name|              parent|value|\n",
      "+--------+--------------------+------+---------------+--------------------+-----+\n",
      "|logistic|20220710213020-0....|  true|       regParam|LogisticRegressio...|  0.1|\n",
      "|logistic|20220710213020-0....|  true|elasticNetParam|LogisticRegressio...|  0.0|\n",
      "|logistic|20220710213020-0....|  true|       regParam|LogisticRegressio...|  0.1|\n",
      "|logistic|20220710213020-0....|  true|elasticNetParam|LogisticRegressio...|  0.5|\n",
      "|logistic|20220710213020-0....|  true|       regParam|LogisticRegressio...|  0.1|\n",
      "|logistic|20220710213020-0....|  true|elasticNetParam|LogisticRegressio...|  1.0|\n",
      "|logistic|20220710213020-0....|  true|       regParam|LogisticRegressio...|  1.0|\n",
      "|logistic|20220710213020-0....|  true|elasticNetParam|LogisticRegressio...|  0.0|\n",
      "|logistic|20220710213020-0....|  true|       regParam|LogisticRegressio...|  1.0|\n",
      "|logistic|20220710213020-0....|  true|elasticNetParam|LogisticRegressio...|  0.5|\n",
      "+--------+--------------------+------+---------------+--------------------+-----+\n",
      "only showing top 10 rows\n",
      "\n"
     ]
    }
   ],
   "source": [
    "import pyspark.sql.functions as F\n",
    "\n",
    "(\n",
    "    df.withColumn(\"filename_parts\", F.split(F.input_file_name(), \"/\"))\n",
    "    .select(\n",
    "        F.expr(\"filename_parts[7]\").alias(\"model\"),\n",
    "        F.expr(\"filename_parts[8]\").alias(\"version\"),\n",
    "        \"paramMap.*\",\n",
    "    )\n",
    "    .withColumn(\"estimatorElements\", F.explode(\"estimatorParamMaps\"))\n",
    "    .withColumn(\"params\", F.explode(\"estimatorElements\"))\n",
    "    .select(\"model\", \"version\", F.expr(\"params.*\"))\n",
    ").show(n=10)"
   ]
  },
  {
   "cell_type": "code",
   "execution_count": 60,
   "metadata": {},
   "outputs": [
    {
     "name": "stdout",
     "output_type": "stream",
     "text": [
      "+-----------------+-----------------------------+------------------+\n",
      "|model            |version                      |bestScore         |\n",
      "+-----------------+-----------------------------+------------------+\n",
      "|gbt              |20220718014521-0.12.0-2d69426|0.7669987879564415|\n",
      "|logistic         |20220714061632-0.12.0-2d69426|0.7596409224596953|\n",
      "|logistic         |20220712070515-0.9.0-d8456e7 |0.7593114523235225|\n",
      "|gbt-with-aft     |20220711061500-0.9.0-b94a9aa |0.7669615270823718|\n",
      "|gbt              |20220711060731-0.9.0-b94a9aa |0.7668335629482486|\n",
      "|gbt-with-aft     |20220711060036-0.9.0-b94a9aa |0.7674870606428792|\n",
      "|logistic-with-aft|20220711055817-0.9.0-b94a9aa |0.759325690605417 |\n",
      "|logistic-with-aft|20220711052503-0.8.0-6bbdfec |0.759325690605417 |\n",
      "|logistic-with-aft|20220711052109-0.8.0-6bbdfec |0.7578148048246048|\n",
      "|logistic-with-aft|20220711050708-0.8.0-6bbdfec |0.759325690605417 |\n",
      "|logistic-with-aft|20220711050352-0.8.0-6bbdfec |0.759325690605417 |\n",
      "|logistic-with-aft|20220711050213-0.8.0-6bbdfec |0.7593114523235225|\n",
      "|logistic-with-aft|20220711045418-0.8.0-6bbdfec |0.5590296377512947|\n",
      "|logistic-with-aft|20220711045139-0.8.0-6bbdfec |0.5590512011471328|\n",
      "|aft              |20220711044610-0.8.0-6bbdfec |78133.1067433719  |\n",
      "|logistic-with-aft|20220711044113-0.8.0-6bbdfec |0.5590296377512947|\n",
      "|logistic-with-aft|20220711043529-0.8.0-6bbdfec |0.5590296377512947|\n",
      "|logistic         |20220711043417-0.8.0-6bbdfec |0.7593114523235225|\n",
      "|logistic-with-aft|20220711042842-0.8.0-6bbdfec |0.5590296377512947|\n",
      "|logistic-with-aft|20220711041945-0.8.0-6bbdfec |0.5590296377512947|\n",
      "+-----------------+-----------------------------+------------------+\n",
      "only showing top 20 rows\n",
      "\n"
     ]
    }
   ],
   "source": [
    "(\n",
    "    df.where('class=\"pyspark.ml.tuning.CrossValidatorModel\"')\n",
    "    .withColumn(\"filename_parts\", F.split(F.input_file_name(), \"/\"))\n",
    "    .withColumn(\"scores\", F.explode(\"avgMetrics\"))\n",
    "    .groupby(\n",
    "        F.expr(\"filename_parts[7]\").alias(\"model\"),\n",
    "        F.expr(\"filename_parts[8]\").alias(\"version\"),\n",
    "    )\n",
    "    .agg(F.max(\"scores\").alias(\"bestScore\"))\n",
    "    .orderBy(F.desc(\"version\"))\n",
    ").show(truncate=False)"
   ]
  }
 ],
 "metadata": {
  "kernelspec": {
   "display_name": "Python 3.10.5 ('venv': venv)",
   "language": "python",
   "name": "python3"
  },
  "language_info": {
   "codemirror_mode": {
    "name": "ipython",
    "version": 3
   },
   "file_extension": ".py",
   "mimetype": "text/x-python",
   "name": "python",
   "nbconvert_exporter": "python",
   "pygments_lexer": "ipython3",
   "version": "3.10.5"
  },
  "orig_nbformat": 4,
  "vscode": {
   "interpreter": {
    "hash": "b6c54eb545c980a3d22c90b546bc649b25da17ee49681e123324ac321bcafd7a"
   }
  }
 },
 "nbformat": 4,
 "nbformat_minor": 2
}
