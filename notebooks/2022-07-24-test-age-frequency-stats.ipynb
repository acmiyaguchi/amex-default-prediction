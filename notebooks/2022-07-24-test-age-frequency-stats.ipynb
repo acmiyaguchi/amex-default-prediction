{
 "cells": [
  {
   "cell_type": "code",
   "execution_count": 6,
   "metadata": {},
   "outputs": [
    {
     "name": "stdout",
     "output_type": "stream",
     "text": [
      "total count:  11363762\n",
      "root\n",
      " |-- sample_id: long (nullable = true)\n",
      " |-- customer_ID: string (nullable = true)\n",
      " |-- statement_date: date (nullable = true)\n",
      " |-- most_recent: boolean (nullable = true)\n",
      " |-- features: vector (nullable = true)\n",
      "\n"
     ]
    }
   ],
   "source": [
    "from amex_default_prediction.utils import spark_session\n",
    "from pathlib import Path\n",
    "from amex_default_prediction.model.base import read_train_data\n",
    "from pyspark.sql import functions as F\n",
    "\n",
    "intermediate_root = Path(\"../data/intermediate\")\n",
    "spark = spark_session()\n",
    "\n",
    "df, _, _ = read_train_data(\n",
    "    spark,\n",
    "    intermediate_root / \"test_data_preprocessed_v2\",\n",
    "    cache=False,\n",
    "    data_most_recent_only=False,\n",
    ")\n",
    "df.printSchema()"
   ]
  },
  {
   "cell_type": "code",
   "execution_count": 7,
   "metadata": {},
   "outputs": [
    {
     "name": "stdout",
     "output_type": "stream",
     "text": [
      "+--------------+------+\n",
      "|customer_count| count|\n",
      "+--------------+------+\n",
      "|             1|  5827|\n",
      "|             2|  8174|\n",
      "|             3|  7803|\n",
      "|             4|  8348|\n",
      "|             5|  8419|\n",
      "|             6|  8833|\n",
      "|             7|  9653|\n",
      "|             8|  9775|\n",
      "|             9| 10552|\n",
      "|            10|  9638|\n",
      "|            11|  9943|\n",
      "|            12| 16327|\n",
      "|            13|811329|\n",
      "+--------------+------+\n",
      "\n"
     ]
    }
   ],
   "source": [
    "(\n",
    "    df.groupby(\"customer_ID\")\n",
    "    .count()\n",
    "    .withColumn(\"customer_count\", F.col(\"count\"))\n",
    "    .groupBy(\"customer_count\")\n",
    "    .count()\n",
    "    .orderBy(\"customer_count\")\n",
    ").show()"
   ]
  },
  {
   "cell_type": "code",
   "execution_count": 10,
   "metadata": {},
   "outputs": [
    {
     "data": {
      "text/plain": [
       "[<matplotlib.lines.Line2D at 0x1c0475b3be0>]"
      ]
     },
     "execution_count": 10,
     "metadata": {},
     "output_type": "execute_result"
    },
    {
     "data": {
      "image/png": "[encoded data removed]",
      "text/plain": [
       "<Figure size 432x288 with 1 Axes>"
      ]
     },
     "metadata": {
      "needs_background": "light"
     },
     "output_type": "display_data"
    }
   ],
   "source": [
    "import matplotlib.pyplot as plt\n",
    "\n",
    "pdf = (\n",
    "    df.groupby(\"customer_ID\")\n",
    "    .agg(\n",
    "        F.min(\"statement_date\").alias(\"min_date\"),\n",
    "        F.max(\"statement_date\").alias(\"max_date\"),\n",
    "    )\n",
    "    .withColumn(\"date_range\", F.datediff(\"max_date\", \"min_date\"))\n",
    "    .groupBy(\"date_range\")\n",
    "    .count()\n",
    "    .orderBy(\"date_range\")\n",
    ").toPandas()\n",
    "\n",
    "plt.plot(pdf.date_range, pdf[\"count\"])"
   ]
  },
  {
   "cell_type": "code",
   "execution_count": 13,
   "metadata": {},
   "outputs": [
    {
     "data": {
      "text/html": [
       "<div>\n",
       "<style scoped>\n",
       "    .dataframe tbody tr th:only-of-type {\n",
       "        vertical-align: middle;\n",
       "    }\n",
       "\n",
       "    .dataframe tbody tr th {\n",
       "        vertical-align: top;\n",
       "    }\n",
       "\n",
       "    .dataframe thead th {\n",
       "        text-align: right;\n",
       "    }\n",
       "</style>\n",
       "<table border=\"1\" class=\"dataframe\">\n",
       "  <thead>\n",
       "    <tr style=\"text-align: right;\">\n",
       "      <th></th>\n",
       "      <th>date_range</th>\n",
       "    </tr>\n",
       "  </thead>\n",
       "  <tbody>\n",
       "    <tr>\n",
       "      <th>0</th>\n",
       "      <td>33.0</td>\n",
       "    </tr>\n",
       "    <tr>\n",
       "      <th>1</th>\n",
       "      <td>10.0</td>\n",
       "    </tr>\n",
       "    <tr>\n",
       "      <th>2</th>\n",
       "      <td>40.0</td>\n",
       "    </tr>\n",
       "    <tr>\n",
       "      <th>3</th>\n",
       "      <td>29.0</td>\n",
       "    </tr>\n",
       "    <tr>\n",
       "      <th>4</th>\n",
       "      <td>27.0</td>\n",
       "    </tr>\n",
       "    <tr>\n",
       "      <th>...</th>\n",
       "      <td>...</td>\n",
       "    </tr>\n",
       "    <tr>\n",
       "      <th>11363757</th>\n",
       "      <td>29.0</td>\n",
       "    </tr>\n",
       "    <tr>\n",
       "      <th>11363758</th>\n",
       "      <td>40.0</td>\n",
       "    </tr>\n",
       "    <tr>\n",
       "      <th>11363759</th>\n",
       "      <td>28.0</td>\n",
       "    </tr>\n",
       "    <tr>\n",
       "      <th>11363760</th>\n",
       "      <td>4.0</td>\n",
       "    </tr>\n",
       "    <tr>\n",
       "      <th>11363761</th>\n",
       "      <td>NaN</td>\n",
       "    </tr>\n",
       "  </tbody>\n",
       "</table>\n",
       "<p>11363762 rows × 1 columns</p>\n",
       "</div>"
      ],
      "text/plain": [
       "          date_range\n",
       "0               33.0\n",
       "1               10.0\n",
       "2               40.0\n",
       "3               29.0\n",
       "4               27.0\n",
       "...              ...\n",
       "11363757        29.0\n",
       "11363758        40.0\n",
       "11363759        28.0\n",
       "11363760         4.0\n",
       "11363761         NaN\n",
       "\n",
       "[11363762 rows x 1 columns]"
      ]
     },
     "execution_count": 13,
     "metadata": {},
     "output_type": "execute_result"
    }
   ],
   "source": [
    "from pyspark.sql import Window\n",
    "\n",
    "w = Window.partitionBy(\"customer_ID\").orderBy(\"statement_date\")\n",
    "pdf = (\n",
    "    df.select(\n",
    "        F.datediff(F.lead(\"statement_date\", 1).over(w), \"statement_date\").alias(\n",
    "            \"date_range\"\n",
    "        )\n",
    "    )\n",
    ").toPandas()\n",
    "pdf"
   ]
  },
  {
   "cell_type": "code",
   "execution_count": 17,
   "metadata": {},
   "outputs": [
    {
     "data": {
      "image/png": "[encoded data removed]",
      "text/plain": [
       "<Figure size 432x288 with 1 Axes>"
      ]
     },
     "metadata": {
      "needs_background": "light"
     },
     "output_type": "display_data"
    }
   ],
   "source": [
    "plt.hist(pdf.date_range, bins=100)\n",
    "plt.yscale(\"log\")"
   ]
  },
  {
   "cell_type": "code",
   "execution_count": 19,
   "metadata": {},
   "outputs": [
    {
     "data": {
      "image/png": "[encoded data removed]",
      "text/plain": [
       "<Figure size 432x288 with 1 Axes>"
      ]
     },
     "metadata": {
      "needs_background": "light"
     },
     "output_type": "display_data"
    }
   ],
   "source": [
    "plt.hist(pdf.date_range // 28, bins=100)\n",
    "plt.yscale(\"log\")"
   ]
  },
  {
   "cell_type": "code",
   "execution_count": 31,
   "metadata": {},
   "outputs": [
    {
     "name": "stdout",
     "output_type": "stream",
     "text": [
      "+--------------------+----------+-----+\n",
      "|         customer_ID|date_range|count|\n",
      "+--------------------+----------+-----+\n",
      "|0003034ad206c64d3...|         0|    2|\n",
      "|0003034ad206c64d3...|        13|    2|\n",
      "|00048ea2f1b75bb67...|         8|    2|\n",
      "|00210383aeaf1044d...|        27|    2|\n",
      "|0091f94ffc70fba20...|        22|    2|\n",
      "|011d540878f99dd84...|        34|    2|\n",
      "|012ea58443635feb0...|        29|    2|\n",
      "|01476a494d08a10b3...|        36|    2|\n",
      "|01836bc5bdd840431...|         0|    2|\n",
      "|0195acc76ed944d0e...|         0|    2|\n",
      "|01d043dca0b165f34...|        12|    2|\n",
      "|01d043dca0b165f34...|        25|    2|\n",
      "|01eafaaf05dd45a95...|        37|    2|\n",
      "|02215cca9420503c9...|        23|    2|\n",
      "|023dddf6ae37d46f6...|        48|    2|\n",
      "|02558d9bc7dc3bad3...|        41|    2|\n",
      "|026435d48c25d6aa1...|        32|    2|\n",
      "|028e86b178345c7ea...|         0|    2|\n",
      "|029041374023089e8...|        42|    2|\n",
      "|02c8c3021ebff5d6f...|        29|    2|\n",
      "+--------------------+----------+-----+\n",
      "only showing top 20 rows\n",
      "\n"
     ]
    },
    {
     "data": {
      "text/plain": [
       "86871"
      ]
     },
     "execution_count": 31,
     "metadata": {},
     "output_type": "execute_result"
    }
   ],
   "source": [
    "w = Window.partitionBy(\"customer_ID\").orderBy(\"statement_date\")\n",
    "x = (\n",
    "    df.select(\n",
    "        \"customer_ID\",\n",
    "        F.floor(\n",
    "            F.datediff(\"statement_date\", F.min(\"statement_date\").over(w)) / 7\n",
    "        ).alias(\"date_range\"),\n",
    "    )\n",
    "    .groupBy(\"customer_ID\", \"date_range\")\n",
    "    .count()\n",
    "    .where(\"count > 1\")\n",
    ")\n",
    "x.show()\n",
    "x.count()"
   ]
  }
 ],
 "metadata": {
  "kernelspec": {
   "display_name": "Python 3.10.5 ('venv': venv)",
   "language": "python",
   "name": "python3"
  },
  "language_info": {
   "codemirror_mode": {
    "name": "ipython",
    "version": 3
   },
   "file_extension": ".py",
   "mimetype": "text/x-python",
   "name": "python",
   "nbconvert_exporter": "python",
   "pygments_lexer": "ipython3",
   "version": "3.9.13"
  },
  "orig_nbformat": 4,
  "vscode": {
   "interpreter": {
    "hash": "b6c54eb545c980a3d22c90b546bc649b25da17ee49681e123324ac321bcafd7a"
   }
  }
 },
 "nbformat": 4,
 "nbformat_minor": 2
}
