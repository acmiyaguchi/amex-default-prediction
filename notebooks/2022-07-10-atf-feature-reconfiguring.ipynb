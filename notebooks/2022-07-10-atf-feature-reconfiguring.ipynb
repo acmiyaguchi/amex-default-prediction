{
 "cells": [
  {
   "cell_type": "code",
   "execution_count": 4,
   "metadata": {},
   "outputs": [
    {
     "data": {
      "text/plain": [
       "(PipelineModel_83dd44d67a31,\n",
       " DataFrame[customer_ID: string, features: vector, target: string])"
      ]
     },
     "execution_count": 4,
     "metadata": {},
     "output_type": "execute_result"
    }
   ],
   "source": [
    "from amex_default_prediction.utils import spark_session\n",
    "from pyspark.ml.pipeline import PipelineModel\n",
    "from pathlib import Path\n",
    "\n",
    "intermediate_root = Path(\"../data/intermediate\")\n",
    "train_data_path = intermediate_root / \"train_data_preprocessed\"\n",
    "spark = spark_session()\n",
    "train_data = spark.read.parquet((train_data_path / \"data\").as_posix())\n",
    "pipeline = PipelineModel.read().load((train_data_path / \"pipeline\").as_posix())\n",
    "pipeline, train_data"
   ]
  },
  {
   "cell_type": "code",
   "execution_count": 22,
   "metadata": {},
   "outputs": [
    {
     "data": {
      "text/plain": [
       "[(177, 'age')]"
      ]
     },
     "execution_count": 22,
     "metadata": {},
     "output_type": "execute_result"
    }
   ],
   "source": [
    "params = {k.name: v for k, v in pipeline.stages[-1].extractParamMap().items()}\n",
    "[(i, v) for i, v in enumerate(params[\"inputCols\"]) if \"age\" in v]"
   ]
  }
 ],
 "metadata": {
  "kernelspec": {
   "display_name": "Python 3.10.5 ('venv': venv)",
   "language": "python",
   "name": "python3"
  },
  "language_info": {
   "codemirror_mode": {
    "name": "ipython",
    "version": 3
   },
   "file_extension": ".py",
   "mimetype": "text/x-python",
   "name": "python",
   "nbconvert_exporter": "python",
   "pygments_lexer": "ipython3",
   "version": "3.10.5"
  },
  "orig_nbformat": 4,
  "vscode": {
   "interpreter": {
    "hash": "b6c54eb545c980a3d22c90b546bc649b25da17ee49681e123324ac321bcafd7a"
   }
  }
 },
 "nbformat": 4,
 "nbformat_minor": 2
}
